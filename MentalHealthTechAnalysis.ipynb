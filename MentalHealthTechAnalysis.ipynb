{
  "nbformat": 4,
  "nbformat_minor": 0,
  "metadata": {
    "colab": {
      "provenance": [],
      "authorship_tag": "ABX9TyNaZG9+R2WsOHoJCh5SdcHw",
      "include_colab_link": true
    },
    "kernelspec": {
      "name": "python3",
      "display_name": "Python 3"
    },
    "language_info": {
      "name": "python"
    }
  },
  "cells": [
    {
      "cell_type": "markdown",
      "metadata": {
        "id": "view-in-github",
        "colab_type": "text"
      },
      "source": [
        "<a href=\"https://colab.research.google.com/github/woodskd24/MentalHealthinTech/blob/main/MentalHealthTechAnalysis.ipynb\" target=\"_parent\"><img src=\"https://colab.research.google.com/assets/colab-badge.svg\" alt=\"Open In Colab\"/></a>"
      ]
    },
    {
      "cell_type": "markdown",
      "source": [
        "This dataset is from a 2014 survey that measures attitudes towards mental health and frequency of mental health disorder"
      ],
      "metadata": {
        "id": "HWLvQDrSCMI3"
      }
    },
    {
      "cell_type": "code",
      "execution_count": 1,
      "metadata": {
        "colab": {
          "base_uri": "https://localhost:8080/"
        },
        "id": "9sEXqgMNBkbE",
        "outputId": "81ba30c8-acd6-49c4-df7a-c9c74de8029d"
      },
      "outputs": [
        {
          "output_type": "stream",
          "name": "stdout",
          "text": [
            "Mounted at /content/drive\n"
          ]
        }
      ],
      "source": [
        "from google.colab import drive\n",
        "drive.mount('/content/drive')"
      ]
    },
    {
      "cell_type": "code",
      "source": [
        "import pandas as pd\n",
        "from sklearn.model_selection import train_test_split\n",
        "import seaborn as sns\n",
        "import numpy as np\n",
        "import matplotlib.pyplot as plt"
      ],
      "metadata": {
        "id": "63aACzgqB3m2"
      },
      "execution_count": 2,
      "outputs": []
    },
    {
      "cell_type": "code",
      "source": [
        "df = pd.read_csv(\"/content/drive/MyDrive/MHTechClean.csv\")"
      ],
      "metadata": {
        "id": "q3U295fVB5WH"
      },
      "execution_count": 3,
      "outputs": []
    },
    {
      "cell_type": "code",
      "source": [
        "df = df.drop(columns = \"Unnamed: 0\")"
      ],
      "metadata": {
        "id": "1F3Ytte7NjqV"
      },
      "execution_count": 6,
      "outputs": []
    },
    {
      "cell_type": "code",
      "source": [
        "df"
      ],
      "metadata": {
        "colab": {
          "base_uri": "https://localhost:8080/",
          "height": 488
        },
        "id": "SAMd98n8Nz-t",
        "outputId": "9a8a9f01-5098-4792-a72d-e50928b52deb"
      },
      "execution_count": 7,
      "outputs": [
        {
          "output_type": "execute_result",
          "data": {
            "text/plain": [
              "     Age  family_history  treatment  work_interfere  remote_work  \\\n",
              "0     37               0          1               4            0   \n",
              "1     44               0          0               2            0   \n",
              "2     31               0          0               1            1   \n",
              "3     33               1          0               3            0   \n",
              "4     35               1          1               3            1   \n",
              "..   ...             ...        ...             ...          ...   \n",
              "746   36               1          0               2            0   \n",
              "747   32               1          1               4            1   \n",
              "748   34               1          1               3            0   \n",
              "749   46               0          0              77            1   \n",
              "750   25               1          1               3            0   \n",
              "\n",
              "     tech_company  benefits  care_options  wellness_program  seek_help  \\\n",
              "0               1         1            77                 0          1   \n",
              "1               0        77             0                77         77   \n",
              "2               1         1             0                77         77   \n",
              "3               1         1            77                 0         77   \n",
              "4               1         0             0                 0          0   \n",
              "..            ...       ...           ...               ...        ...   \n",
              "746             0        77             0                 1          1   \n",
              "747             1         1             1                 0          0   \n",
              "748             1         1             1                 0          0   \n",
              "749             1         0             1                 0          0   \n",
              "750             0         1             1                 0          0   \n",
              "\n",
              "     anonymity  mental_health_consequence  phys_health_consequence  \\\n",
              "0            1                          0                        0   \n",
              "1           77                         33                        0   \n",
              "2           77                          0                        0   \n",
              "3           77                          0                        0   \n",
              "4            0                         33                       33   \n",
              "..         ...                        ...                      ...   \n",
              "746         77                         33                       33   \n",
              "747          1                          0                        0   \n",
              "748         77                          1                        1   \n",
              "749         77                          1                        0   \n",
              "750          1                         33                        0   \n",
              "\n",
              "     supervisor  mental_health_interview  phys_health_interview  \\\n",
              "0             1                        0                     33   \n",
              "1             0                        0                      0   \n",
              "2             1                        1                      1   \n",
              "3             1                        0                     33   \n",
              "4             0                        0                      0   \n",
              "..          ...                      ...                    ...   \n",
              "746           3                        0                      0   \n",
              "747           1                        0                      0   \n",
              "748           0                        0                      0   \n",
              "749           0                        0                      0   \n",
              "750           0                        0                      0   \n",
              "\n",
              "     mental_vs_physical  obs_consequence  \n",
              "0                     1                0  \n",
              "1                    77                0  \n",
              "2                    77                0  \n",
              "3                    77                0  \n",
              "4                    77                0  \n",
              "..                  ...              ...  \n",
              "746                  77                0  \n",
              "747                   1                0  \n",
              "748                   0                0  \n",
              "749                   0                0  \n",
              "750                  77                0  \n",
              "\n",
              "[751 rows x 18 columns]"
            ],
            "text/html": [
              "\n",
              "  <div id=\"df-0a543b77-41b0-4e60-b56a-7b2adaefcebc\">\n",
              "    <div class=\"colab-df-container\">\n",
              "      <div>\n",
              "<style scoped>\n",
              "    .dataframe tbody tr th:only-of-type {\n",
              "        vertical-align: middle;\n",
              "    }\n",
              "\n",
              "    .dataframe tbody tr th {\n",
              "        vertical-align: top;\n",
              "    }\n",
              "\n",
              "    .dataframe thead th {\n",
              "        text-align: right;\n",
              "    }\n",
              "</style>\n",
              "<table border=\"1\" class=\"dataframe\">\n",
              "  <thead>\n",
              "    <tr style=\"text-align: right;\">\n",
              "      <th></th>\n",
              "      <th>Age</th>\n",
              "      <th>family_history</th>\n",
              "      <th>treatment</th>\n",
              "      <th>work_interfere</th>\n",
              "      <th>remote_work</th>\n",
              "      <th>tech_company</th>\n",
              "      <th>benefits</th>\n",
              "      <th>care_options</th>\n",
              "      <th>wellness_program</th>\n",
              "      <th>seek_help</th>\n",
              "      <th>anonymity</th>\n",
              "      <th>mental_health_consequence</th>\n",
              "      <th>phys_health_consequence</th>\n",
              "      <th>supervisor</th>\n",
              "      <th>mental_health_interview</th>\n",
              "      <th>phys_health_interview</th>\n",
              "      <th>mental_vs_physical</th>\n",
              "      <th>obs_consequence</th>\n",
              "    </tr>\n",
              "  </thead>\n",
              "  <tbody>\n",
              "    <tr>\n",
              "      <th>0</th>\n",
              "      <td>37</td>\n",
              "      <td>0</td>\n",
              "      <td>1</td>\n",
              "      <td>4</td>\n",
              "      <td>0</td>\n",
              "      <td>1</td>\n",
              "      <td>1</td>\n",
              "      <td>77</td>\n",
              "      <td>0</td>\n",
              "      <td>1</td>\n",
              "      <td>1</td>\n",
              "      <td>0</td>\n",
              "      <td>0</td>\n",
              "      <td>1</td>\n",
              "      <td>0</td>\n",
              "      <td>33</td>\n",
              "      <td>1</td>\n",
              "      <td>0</td>\n",
              "    </tr>\n",
              "    <tr>\n",
              "      <th>1</th>\n",
              "      <td>44</td>\n",
              "      <td>0</td>\n",
              "      <td>0</td>\n",
              "      <td>2</td>\n",
              "      <td>0</td>\n",
              "      <td>0</td>\n",
              "      <td>77</td>\n",
              "      <td>0</td>\n",
              "      <td>77</td>\n",
              "      <td>77</td>\n",
              "      <td>77</td>\n",
              "      <td>33</td>\n",
              "      <td>0</td>\n",
              "      <td>0</td>\n",
              "      <td>0</td>\n",
              "      <td>0</td>\n",
              "      <td>77</td>\n",
              "      <td>0</td>\n",
              "    </tr>\n",
              "    <tr>\n",
              "      <th>2</th>\n",
              "      <td>31</td>\n",
              "      <td>0</td>\n",
              "      <td>0</td>\n",
              "      <td>1</td>\n",
              "      <td>1</td>\n",
              "      <td>1</td>\n",
              "      <td>1</td>\n",
              "      <td>0</td>\n",
              "      <td>77</td>\n",
              "      <td>77</td>\n",
              "      <td>77</td>\n",
              "      <td>0</td>\n",
              "      <td>0</td>\n",
              "      <td>1</td>\n",
              "      <td>1</td>\n",
              "      <td>1</td>\n",
              "      <td>77</td>\n",
              "      <td>0</td>\n",
              "    </tr>\n",
              "    <tr>\n",
              "      <th>3</th>\n",
              "      <td>33</td>\n",
              "      <td>1</td>\n",
              "      <td>0</td>\n",
              "      <td>3</td>\n",
              "      <td>0</td>\n",
              "      <td>1</td>\n",
              "      <td>1</td>\n",
              "      <td>77</td>\n",
              "      <td>0</td>\n",
              "      <td>77</td>\n",
              "      <td>77</td>\n",
              "      <td>0</td>\n",
              "      <td>0</td>\n",
              "      <td>1</td>\n",
              "      <td>0</td>\n",
              "      <td>33</td>\n",
              "      <td>77</td>\n",
              "      <td>0</td>\n",
              "    </tr>\n",
              "    <tr>\n",
              "      <th>4</th>\n",
              "      <td>35</td>\n",
              "      <td>1</td>\n",
              "      <td>1</td>\n",
              "      <td>3</td>\n",
              "      <td>1</td>\n",
              "      <td>1</td>\n",
              "      <td>0</td>\n",
              "      <td>0</td>\n",
              "      <td>0</td>\n",
              "      <td>0</td>\n",
              "      <td>0</td>\n",
              "      <td>33</td>\n",
              "      <td>33</td>\n",
              "      <td>0</td>\n",
              "      <td>0</td>\n",
              "      <td>0</td>\n",
              "      <td>77</td>\n",
              "      <td>0</td>\n",
              "    </tr>\n",
              "    <tr>\n",
              "      <th>...</th>\n",
              "      <td>...</td>\n",
              "      <td>...</td>\n",
              "      <td>...</td>\n",
              "      <td>...</td>\n",
              "      <td>...</td>\n",
              "      <td>...</td>\n",
              "      <td>...</td>\n",
              "      <td>...</td>\n",
              "      <td>...</td>\n",
              "      <td>...</td>\n",
              "      <td>...</td>\n",
              "      <td>...</td>\n",
              "      <td>...</td>\n",
              "      <td>...</td>\n",
              "      <td>...</td>\n",
              "      <td>...</td>\n",
              "      <td>...</td>\n",
              "      <td>...</td>\n",
              "    </tr>\n",
              "    <tr>\n",
              "      <th>746</th>\n",
              "      <td>36</td>\n",
              "      <td>1</td>\n",
              "      <td>0</td>\n",
              "      <td>2</td>\n",
              "      <td>0</td>\n",
              "      <td>0</td>\n",
              "      <td>77</td>\n",
              "      <td>0</td>\n",
              "      <td>1</td>\n",
              "      <td>1</td>\n",
              "      <td>77</td>\n",
              "      <td>33</td>\n",
              "      <td>33</td>\n",
              "      <td>3</td>\n",
              "      <td>0</td>\n",
              "      <td>0</td>\n",
              "      <td>77</td>\n",
              "      <td>0</td>\n",
              "    </tr>\n",
              "    <tr>\n",
              "      <th>747</th>\n",
              "      <td>32</td>\n",
              "      <td>1</td>\n",
              "      <td>1</td>\n",
              "      <td>4</td>\n",
              "      <td>1</td>\n",
              "      <td>1</td>\n",
              "      <td>1</td>\n",
              "      <td>1</td>\n",
              "      <td>0</td>\n",
              "      <td>0</td>\n",
              "      <td>1</td>\n",
              "      <td>0</td>\n",
              "      <td>0</td>\n",
              "      <td>1</td>\n",
              "      <td>0</td>\n",
              "      <td>0</td>\n",
              "      <td>1</td>\n",
              "      <td>0</td>\n",
              "    </tr>\n",
              "    <tr>\n",
              "      <th>748</th>\n",
              "      <td>34</td>\n",
              "      <td>1</td>\n",
              "      <td>1</td>\n",
              "      <td>3</td>\n",
              "      <td>0</td>\n",
              "      <td>1</td>\n",
              "      <td>1</td>\n",
              "      <td>1</td>\n",
              "      <td>0</td>\n",
              "      <td>0</td>\n",
              "      <td>77</td>\n",
              "      <td>1</td>\n",
              "      <td>1</td>\n",
              "      <td>0</td>\n",
              "      <td>0</td>\n",
              "      <td>0</td>\n",
              "      <td>0</td>\n",
              "      <td>0</td>\n",
              "    </tr>\n",
              "    <tr>\n",
              "      <th>749</th>\n",
              "      <td>46</td>\n",
              "      <td>0</td>\n",
              "      <td>0</td>\n",
              "      <td>77</td>\n",
              "      <td>1</td>\n",
              "      <td>1</td>\n",
              "      <td>0</td>\n",
              "      <td>1</td>\n",
              "      <td>0</td>\n",
              "      <td>0</td>\n",
              "      <td>77</td>\n",
              "      <td>1</td>\n",
              "      <td>0</td>\n",
              "      <td>0</td>\n",
              "      <td>0</td>\n",
              "      <td>0</td>\n",
              "      <td>0</td>\n",
              "      <td>0</td>\n",
              "    </tr>\n",
              "    <tr>\n",
              "      <th>750</th>\n",
              "      <td>25</td>\n",
              "      <td>1</td>\n",
              "      <td>1</td>\n",
              "      <td>3</td>\n",
              "      <td>0</td>\n",
              "      <td>0</td>\n",
              "      <td>1</td>\n",
              "      <td>1</td>\n",
              "      <td>0</td>\n",
              "      <td>0</td>\n",
              "      <td>1</td>\n",
              "      <td>33</td>\n",
              "      <td>0</td>\n",
              "      <td>0</td>\n",
              "      <td>0</td>\n",
              "      <td>0</td>\n",
              "      <td>77</td>\n",
              "      <td>0</td>\n",
              "    </tr>\n",
              "  </tbody>\n",
              "</table>\n",
              "<p>751 rows × 18 columns</p>\n",
              "</div>\n",
              "      <button class=\"colab-df-convert\" onclick=\"convertToInteractive('df-0a543b77-41b0-4e60-b56a-7b2adaefcebc')\"\n",
              "              title=\"Convert this dataframe to an interactive table.\"\n",
              "              style=\"display:none;\">\n",
              "        \n",
              "  <svg xmlns=\"http://www.w3.org/2000/svg\" height=\"24px\"viewBox=\"0 0 24 24\"\n",
              "       width=\"24px\">\n",
              "    <path d=\"M0 0h24v24H0V0z\" fill=\"none\"/>\n",
              "    <path d=\"M18.56 5.44l.94 2.06.94-2.06 2.06-.94-2.06-.94-.94-2.06-.94 2.06-2.06.94zm-11 1L8.5 8.5l.94-2.06 2.06-.94-2.06-.94L8.5 2.5l-.94 2.06-2.06.94zm10 10l.94 2.06.94-2.06 2.06-.94-2.06-.94-.94-2.06-.94 2.06-2.06.94z\"/><path d=\"M17.41 7.96l-1.37-1.37c-.4-.4-.92-.59-1.43-.59-.52 0-1.04.2-1.43.59L10.3 9.45l-7.72 7.72c-.78.78-.78 2.05 0 2.83L4 21.41c.39.39.9.59 1.41.59.51 0 1.02-.2 1.41-.59l7.78-7.78 2.81-2.81c.8-.78.8-2.07 0-2.86zM5.41 20L4 18.59l7.72-7.72 1.47 1.35L5.41 20z\"/>\n",
              "  </svg>\n",
              "      </button>\n",
              "      \n",
              "  <style>\n",
              "    .colab-df-container {\n",
              "      display:flex;\n",
              "      flex-wrap:wrap;\n",
              "      gap: 12px;\n",
              "    }\n",
              "\n",
              "    .colab-df-convert {\n",
              "      background-color: #E8F0FE;\n",
              "      border: none;\n",
              "      border-radius: 50%;\n",
              "      cursor: pointer;\n",
              "      display: none;\n",
              "      fill: #1967D2;\n",
              "      height: 32px;\n",
              "      padding: 0 0 0 0;\n",
              "      width: 32px;\n",
              "    }\n",
              "\n",
              "    .colab-df-convert:hover {\n",
              "      background-color: #E2EBFA;\n",
              "      box-shadow: 0px 1px 2px rgba(60, 64, 67, 0.3), 0px 1px 3px 1px rgba(60, 64, 67, 0.15);\n",
              "      fill: #174EA6;\n",
              "    }\n",
              "\n",
              "    [theme=dark] .colab-df-convert {\n",
              "      background-color: #3B4455;\n",
              "      fill: #D2E3FC;\n",
              "    }\n",
              "\n",
              "    [theme=dark] .colab-df-convert:hover {\n",
              "      background-color: #434B5C;\n",
              "      box-shadow: 0px 1px 3px 1px rgba(0, 0, 0, 0.15);\n",
              "      filter: drop-shadow(0px 1px 2px rgba(0, 0, 0, 0.3));\n",
              "      fill: #FFFFFF;\n",
              "    }\n",
              "  </style>\n",
              "\n",
              "      <script>\n",
              "        const buttonEl =\n",
              "          document.querySelector('#df-0a543b77-41b0-4e60-b56a-7b2adaefcebc button.colab-df-convert');\n",
              "        buttonEl.style.display =\n",
              "          google.colab.kernel.accessAllowed ? 'block' : 'none';\n",
              "\n",
              "        async function convertToInteractive(key) {\n",
              "          const element = document.querySelector('#df-0a543b77-41b0-4e60-b56a-7b2adaefcebc');\n",
              "          const dataTable =\n",
              "            await google.colab.kernel.invokeFunction('convertToInteractive',\n",
              "                                                     [key], {});\n",
              "          if (!dataTable) return;\n",
              "\n",
              "          const docLinkHtml = 'Like what you see? Visit the ' +\n",
              "            '<a target=\"_blank\" href=https://colab.research.google.com/notebooks/data_table.ipynb>data table notebook</a>'\n",
              "            + ' to learn more about interactive tables.';\n",
              "          element.innerHTML = '';\n",
              "          dataTable['output_type'] = 'display_data';\n",
              "          await google.colab.output.renderOutput(dataTable, element);\n",
              "          const docLink = document.createElement('div');\n",
              "          docLink.innerHTML = docLinkHtml;\n",
              "          element.appendChild(docLink);\n",
              "        }\n",
              "      </script>\n",
              "    </div>\n",
              "  </div>\n",
              "  "
            ]
          },
          "metadata": {},
          "execution_count": 7
        }
      ]
    },
    {
      "cell_type": "code",
      "source": [
        "# df.loc[df[col] == \"No\", col] = 0\n",
        "# df.loc[df[col] == \"Yes\", col] = 1\n",
        "# df.loc[df[col] == \"Don't know\", col] = 77\n",
        "# df.loc[df[col] == \"Not sure\", col] = 77 \n",
        "# df.loc[df[col] == \"Often\", col] = 5\n",
        "# df.loc[df[col] == \"Rarely\", col] = 2\n",
        "# df.loc[df[col] == \"Sometimes\", col] = 4\n",
        "# df.loc[df[col] == \"Never\", col] = 1 \n",
        "# df.loc[df[col] == \"Maybe\", col] = 33 \n",
        "# df.loc[df[col] == \"Some of them\", col] = 3 "
      ],
      "metadata": {
        "id": "yjld4mnJOAzK"
      },
      "execution_count": 8,
      "outputs": []
    },
    {
      "cell_type": "code",
      "source": [
        "df.corrwith(df[\"seek_help\"])"
      ],
      "metadata": {
        "colab": {
          "base_uri": "https://localhost:8080/"
        },
        "id": "CQcmePfqOUXt",
        "outputId": "52193158-9678-4773-bcbc-bfb56fd16c02"
      },
      "execution_count": 9,
      "outputs": [
        {
          "output_type": "execute_result",
          "data": {
            "text/plain": [
              "Age                         -0.059058\n",
              "family_history              -0.028638\n",
              "treatment                   -0.117836\n",
              "work_interfere               0.072169\n",
              "remote_work                  0.004996\n",
              "tech_company                -0.023311\n",
              "benefits                     0.352284\n",
              "care_options                 0.268070\n",
              "wellness_program             0.355133\n",
              "seek_help                    1.000000\n",
              "anonymity                    0.276594\n",
              "mental_health_consequence    0.052515\n",
              "phys_health_consequence     -0.003256\n",
              "supervisor                   0.017690\n",
              "mental_health_interview     -0.031763\n",
              "phys_health_interview        0.045805\n",
              "mental_vs_physical           0.168872\n",
              "obs_consequence             -0.086328\n",
              "dtype: float64"
            ]
          },
          "metadata": {},
          "execution_count": 9
        }
      ]
    },
    {
      "cell_type": "code",
      "source": [
        "df.corrwith(df[\"treatment\"])"
      ],
      "metadata": {
        "colab": {
          "base_uri": "https://localhost:8080/"
        },
        "id": "OCKjo2tqPKVW",
        "outputId": "bbbf6cdf-114b-4ee8-f3b9-ec34d8c16ad6"
      },
      "execution_count": 10,
      "outputs": [
        {
          "output_type": "execute_result",
          "data": {
            "text/plain": [
              "Age                          0.052231\n",
              "family_history               0.376338\n",
              "treatment                    1.000000\n",
              "work_interfere              -0.514192\n",
              "remote_work                  0.023375\n",
              "tech_company                 0.023565\n",
              "benefits                    -0.252201\n",
              "care_options                -0.182492\n",
              "wellness_program            -0.080847\n",
              "seek_help                   -0.117836\n",
              "anonymity                   -0.170645\n",
              "mental_health_consequence    0.048504\n",
              "phys_health_consequence      0.068049\n",
              "supervisor                   0.003951\n",
              "mental_health_interview     -0.098424\n",
              "phys_health_interview       -0.078065\n",
              "mental_vs_physical          -0.087414\n",
              "obs_consequence              0.135798\n",
              "dtype: float64"
            ]
          },
          "metadata": {},
          "execution_count": 10
        }
      ]
    },
    {
      "cell_type": "code",
      "source": [
        "X = df[['tech_company']]\n",
        "y = df['treatment']"
      ],
      "metadata": {
        "id": "bpJ1lRaBPiGX"
      },
      "execution_count": 11,
      "outputs": []
    },
    {
      "cell_type": "code",
      "source": [
        "X_train, X_test, y_train, y_test = train_test_split(X, y, test_size=0.3, random_state=1)"
      ],
      "metadata": {
        "id": "y7xPmta-QGkP"
      },
      "execution_count": 13,
      "outputs": []
    },
    {
      "cell_type": "code",
      "source": [
        "from sklearn.naive_bayes import GaussianNB\n",
        "classifier = GaussianNB()\n",
        "classifier.fit(X_train, y_train)"
      ],
      "metadata": {
        "colab": {
          "base_uri": "https://localhost:8080/"
        },
        "id": "QEkWIyjeP107",
        "outputId": "3843a38c-75a0-411d-b8b2-d0f415a3344a"
      },
      "execution_count": 14,
      "outputs": [
        {
          "output_type": "execute_result",
          "data": {
            "text/plain": [
              "GaussianNB()"
            ]
          },
          "metadata": {},
          "execution_count": 14
        }
      ]
    },
    {
      "cell_type": "code",
      "source": [
        "y_pred2  =  classifier.predict(X_test)"
      ],
      "metadata": {
        "id": "M5C3SYYoQKxG"
      },
      "execution_count": 15,
      "outputs": []
    },
    {
      "cell_type": "code",
      "source": [
        "from sklearn import metrics\n",
        "meanAbErr = metrics.mean_absolute_error(y_test, y_pred2)\n",
        "meanSqErr = metrics.mean_squared_error(y_test, y_pred2)\n",
        "rootMeanSqErr = np.sqrt(metrics.mean_squared_error(y_test, y_pred2))\n",
        "print('R squared: {:.2f}'.format(classifier.score(X_train,y_train)*100))\n",
        "print('Mean Absolute Error:', meanAbErr)\n",
        "print('Mean Square Error:', meanSqErr)\n",
        "print('Root Mean Square Error:', rootMeanSqErr)"
      ],
      "metadata": {
        "colab": {
          "base_uri": "https://localhost:8080/"
        },
        "id": "m5bLvVztQMwI",
        "outputId": "b63ea1f0-2c06-47fa-c958-e7238691e9d0"
      },
      "execution_count": 16,
      "outputs": [
        {
          "output_type": "stream",
          "name": "stdout",
          "text": [
            "R squared: 54.29\n",
            "Mean Absolute Error: 0.47345132743362833\n",
            "Mean Square Error: 0.47345132743362833\n",
            "Root Mean Square Error: 0.688077995167429\n"
          ]
        }
      ]
    },
    {
      "cell_type": "code",
      "source": [
        "from sklearn.linear_model import LogisticRegression\n",
        "slr = LogisticRegression()  \n",
        "slr.fit(X_train, y_train)"
      ],
      "metadata": {
        "colab": {
          "base_uri": "https://localhost:8080/"
        },
        "id": "WmqViKR5QPjv",
        "outputId": "48262329-3187-415f-e9d0-21b978f9140c"
      },
      "execution_count": 17,
      "outputs": [
        {
          "output_type": "execute_result",
          "data": {
            "text/plain": [
              "LogisticRegression()"
            ]
          },
          "metadata": {},
          "execution_count": 17
        }
      ]
    },
    {
      "cell_type": "code",
      "source": [
        "y_pred_slr= slr.predict(X_test)"
      ],
      "metadata": {
        "id": "1pBgc9PGQR1m"
      },
      "execution_count": 18,
      "outputs": []
    },
    {
      "cell_type": "code",
      "source": [
        "from sklearn import metrics\n",
        "meanAbErr = metrics.mean_absolute_error(y_test, y_pred_slr)\n",
        "meanSqErr = metrics.mean_squared_error(y_test, y_pred_slr)\n",
        "rootMeanSqErr = np.sqrt(metrics.mean_squared_error(y_test, y_pred_slr))\n",
        "print('R squared: {:.2f}'.format(slr.score(X_train,y_train)*100))\n",
        "print('Mean Absolute Error:', meanAbErr)\n",
        "print('Mean Square Error:', meanSqErr)\n",
        "print('Root Mean Square Error:', rootMeanSqErr)"
      ],
      "metadata": {
        "colab": {
          "base_uri": "https://localhost:8080/"
        },
        "id": "7mdL3qPEQT8f",
        "outputId": "c222f6cf-7ae5-4aa0-e336-4896daeb045a"
      },
      "execution_count": 19,
      "outputs": [
        {
          "output_type": "stream",
          "name": "stdout",
          "text": [
            "R squared: 54.67\n",
            "Mean Absolute Error: 0.4557522123893805\n",
            "Mean Square Error: 0.4557522123893805\n",
            "Root Mean Square Error: 0.6750942248230098\n"
          ]
        }
      ]
    },
    {
      "cell_type": "code",
      "source": [
        "from sklearn.ensemble import RandomForestRegressor\n",
        "rf = RandomForestRegressor(n_estimators = 1000, random_state = 42)\n",
        "rf.fit(X_train, y_train)\n",
        "y_pred3 = rf.predict(X_test)"
      ],
      "metadata": {
        "id": "D80OHKe4QXxb"
      },
      "execution_count": 22,
      "outputs": []
    },
    {
      "cell_type": "code",
      "source": [
        "from sklearn import metrics\n",
        "meanAbErr = metrics.mean_absolute_error(y_test, y_pred_slr)\n",
        "meanSqErr = metrics.mean_squared_error(y_test, y_pred_slr)\n",
        "rootMeanSqErr = np.sqrt(metrics.mean_squared_error(y_test, y_pred_slr))\n",
        "print('R squared: {:.2f}'.format(slr.score(X_train,y_train)*100))\n",
        "print('Mean Absolute Error:', meanAbErr)\n",
        "print('Mean Square Error:', meanSqErr)\n",
        "print('Root Mean Square Error:', rootMeanSqErr)"
      ],
      "metadata": {
        "colab": {
          "base_uri": "https://localhost:8080/"
        },
        "id": "nirJecbAQbr1",
        "outputId": "e9818a6b-1146-49eb-eed9-61693f5d038e"
      },
      "execution_count": 23,
      "outputs": [
        {
          "output_type": "stream",
          "name": "stdout",
          "text": [
            "R squared: 54.67\n",
            "Mean Absolute Error: 0.4557522123893805\n",
            "Mean Square Error: 0.4557522123893805\n",
            "Root Mean Square Error: 0.6750942248230098\n"
          ]
        }
      ]
    },
    {
      "cell_type": "code",
      "source": [
        "import xgboost as xgb\n",
        "from scipy.stats import uniform, randint"
      ],
      "metadata": {
        "id": "36_Hk3EZQjA-"
      },
      "execution_count": 24,
      "outputs": []
    },
    {
      "cell_type": "code",
      "source": [
        "xgb = xgb.XGBRegressor(objective=\"reg:linear\", random_state=42)\n",
        "\n",
        "x1 = xgb.fit(X_train, y_train, eval_set=[(X_test, y_test)])\n",
        "\n",
        "y_pred1 = x1.predict(X_test)"
      ],
      "metadata": {
        "colab": {
          "base_uri": "https://localhost:8080/"
        },
        "id": "3hdAC7hqQlKE",
        "outputId": "2309687a-70a7-493b-dcbb-37bc9b9637b1"
      },
      "execution_count": 25,
      "outputs": [
        {
          "output_type": "stream",
          "name": "stdout",
          "text": [
            "[16:39:54] WARNING: /workspace/src/objective/regression_obj.cu:152: reg:linear is now deprecated in favor of reg:squarederror.\n",
            "[0]\tvalidation_0-rmse:0.499614\n",
            "[1]\tvalidation_0-rmse:0.499312\n",
            "[2]\tvalidation_0-rmse:0.499076\n",
            "[3]\tvalidation_0-rmse:0.498895\n",
            "[4]\tvalidation_0-rmse:0.498756\n",
            "[5]\tvalidation_0-rmse:0.498651\n",
            "[6]\tvalidation_0-rmse:0.498572\n",
            "[7]\tvalidation_0-rmse:0.498514\n",
            "[8]\tvalidation_0-rmse:0.498472\n",
            "[9]\tvalidation_0-rmse:0.498443\n",
            "[10]\tvalidation_0-rmse:0.498424\n",
            "[11]\tvalidation_0-rmse:0.498412\n",
            "[12]\tvalidation_0-rmse:0.498406\n",
            "[13]\tvalidation_0-rmse:0.498405\n",
            "[14]\tvalidation_0-rmse:0.498405\n",
            "[15]\tvalidation_0-rmse:0.49841\n",
            "[16]\tvalidation_0-rmse:0.498415\n",
            "[17]\tvalidation_0-rmse:0.498421\n",
            "[18]\tvalidation_0-rmse:0.498428\n",
            "[19]\tvalidation_0-rmse:0.498435\n",
            "[20]\tvalidation_0-rmse:0.498442\n",
            "[21]\tvalidation_0-rmse:0.49845\n",
            "[22]\tvalidation_0-rmse:0.498458\n",
            "[23]\tvalidation_0-rmse:0.498464\n",
            "[24]\tvalidation_0-rmse:0.498471\n",
            "[25]\tvalidation_0-rmse:0.498477\n",
            "[26]\tvalidation_0-rmse:0.498483\n",
            "[27]\tvalidation_0-rmse:0.498489\n",
            "[28]\tvalidation_0-rmse:0.498493\n",
            "[29]\tvalidation_0-rmse:0.498498\n",
            "[30]\tvalidation_0-rmse:0.498502\n",
            "[31]\tvalidation_0-rmse:0.498506\n",
            "[32]\tvalidation_0-rmse:0.49851\n",
            "[33]\tvalidation_0-rmse:0.498514\n",
            "[34]\tvalidation_0-rmse:0.498517\n",
            "[35]\tvalidation_0-rmse:0.498519\n",
            "[36]\tvalidation_0-rmse:0.498522\n",
            "[37]\tvalidation_0-rmse:0.498524\n",
            "[38]\tvalidation_0-rmse:0.498526\n",
            "[39]\tvalidation_0-rmse:0.498528\n",
            "[40]\tvalidation_0-rmse:0.49853\n",
            "[41]\tvalidation_0-rmse:0.498531\n",
            "[42]\tvalidation_0-rmse:0.498533\n",
            "[43]\tvalidation_0-rmse:0.498534\n",
            "[44]\tvalidation_0-rmse:0.498535\n",
            "[45]\tvalidation_0-rmse:0.498536\n",
            "[46]\tvalidation_0-rmse:0.498537\n",
            "[47]\tvalidation_0-rmse:0.498538\n",
            "[48]\tvalidation_0-rmse:0.498539\n",
            "[49]\tvalidation_0-rmse:0.49854\n",
            "[50]\tvalidation_0-rmse:0.49854\n",
            "[51]\tvalidation_0-rmse:0.498541\n",
            "[52]\tvalidation_0-rmse:0.498542\n",
            "[53]\tvalidation_0-rmse:0.498542\n",
            "[54]\tvalidation_0-rmse:0.498542\n",
            "[55]\tvalidation_0-rmse:0.498542\n",
            "[56]\tvalidation_0-rmse:0.498543\n",
            "[57]\tvalidation_0-rmse:0.498543\n",
            "[58]\tvalidation_0-rmse:0.498543\n",
            "[59]\tvalidation_0-rmse:0.498544\n",
            "[60]\tvalidation_0-rmse:0.498544\n",
            "[61]\tvalidation_0-rmse:0.498544\n",
            "[62]\tvalidation_0-rmse:0.498544\n",
            "[63]\tvalidation_0-rmse:0.498544\n",
            "[64]\tvalidation_0-rmse:0.498544\n",
            "[65]\tvalidation_0-rmse:0.498544\n",
            "[66]\tvalidation_0-rmse:0.498543\n",
            "[67]\tvalidation_0-rmse:0.498543\n",
            "[68]\tvalidation_0-rmse:0.498544\n",
            "[69]\tvalidation_0-rmse:0.498544\n",
            "[70]\tvalidation_0-rmse:0.498544\n",
            "[71]\tvalidation_0-rmse:0.498544\n",
            "[72]\tvalidation_0-rmse:0.498544\n",
            "[73]\tvalidation_0-rmse:0.498544\n",
            "[74]\tvalidation_0-rmse:0.498544\n",
            "[75]\tvalidation_0-rmse:0.498544\n",
            "[76]\tvalidation_0-rmse:0.498544\n",
            "[77]\tvalidation_0-rmse:0.498544\n",
            "[78]\tvalidation_0-rmse:0.498545\n",
            "[79]\tvalidation_0-rmse:0.498544\n",
            "[80]\tvalidation_0-rmse:0.498544\n",
            "[81]\tvalidation_0-rmse:0.498544\n",
            "[82]\tvalidation_0-rmse:0.498545\n",
            "[83]\tvalidation_0-rmse:0.498545\n",
            "[84]\tvalidation_0-rmse:0.498544\n",
            "[85]\tvalidation_0-rmse:0.498544\n",
            "[86]\tvalidation_0-rmse:0.498544\n",
            "[87]\tvalidation_0-rmse:0.498544\n",
            "[88]\tvalidation_0-rmse:0.498545\n",
            "[89]\tvalidation_0-rmse:0.498545\n",
            "[90]\tvalidation_0-rmse:0.498544\n",
            "[91]\tvalidation_0-rmse:0.498544\n",
            "[92]\tvalidation_0-rmse:0.498545\n",
            "[93]\tvalidation_0-rmse:0.498544\n",
            "[94]\tvalidation_0-rmse:0.498544\n",
            "[95]\tvalidation_0-rmse:0.498544\n",
            "[96]\tvalidation_0-rmse:0.498544\n",
            "[97]\tvalidation_0-rmse:0.498544\n",
            "[98]\tvalidation_0-rmse:0.498544\n",
            "[99]\tvalidation_0-rmse:0.498544\n"
          ]
        }
      ]
    },
    {
      "cell_type": "code",
      "source": [
        "from sklearn import metrics\n",
        "meanAbErr = metrics.mean_absolute_error(y_test, y_pred_slr)\n",
        "meanSqErr = metrics.mean_squared_error(y_test, y_pred_slr)\n",
        "rootMeanSqErr = np.sqrt(metrics.mean_squared_error(y_test, y_pred_slr))\n",
        "print('R squared: {:.2f}'.format(slr.score(X_train,y_train)*100))\n",
        "print('Mean Absolute Error:', meanAbErr)\n",
        "print('Mean Square Error:', meanSqErr)\n",
        "print('Root Mean Square Error:', rootMeanSqErr)"
      ],
      "metadata": {
        "colab": {
          "base_uri": "https://localhost:8080/"
        },
        "id": "Igqy13ApQm_K",
        "outputId": "5155f3cd-810b-4491-fe3b-890e114f2eed"
      },
      "execution_count": 26,
      "outputs": [
        {
          "output_type": "stream",
          "name": "stdout",
          "text": [
            "R squared: 54.67\n",
            "Mean Absolute Error: 0.4557522123893805\n",
            "Mean Square Error: 0.4557522123893805\n",
            "Root Mean Square Error: 0.6750942248230098\n"
          ]
        }
      ]
    },
    {
      "cell_type": "markdown",
      "source": [
        "##Prediction"
      ],
      "metadata": {
        "id": "Cys_KmLmQt-7"
      }
    },
    {
      "cell_type": "code",
      "source": [
        "question = pd.DataFrame({'Actual value': y_test, 'Predicted value': y_pred_slr})\n",
        "question.head()"
      ],
      "metadata": {
        "colab": {
          "base_uri": "https://localhost:8080/",
          "height": 206
        },
        "id": "LCI8bFwMQsrO",
        "outputId": "256abd38-e0d8-49b7-d5ba-a3c741e0fc6d"
      },
      "execution_count": 27,
      "outputs": [
        {
          "output_type": "execute_result",
          "data": {
            "text/plain": [
              "     Actual value  Predicted value\n",
              "690             1                1\n",
              "602             1                1\n",
              "389             0                1\n",
              "537             1                1\n",
              "90              1                1"
            ],
            "text/html": [
              "\n",
              "  <div id=\"df-29084146-c840-4b2e-b7cc-811f6a07d547\">\n",
              "    <div class=\"colab-df-container\">\n",
              "      <div>\n",
              "<style scoped>\n",
              "    .dataframe tbody tr th:only-of-type {\n",
              "        vertical-align: middle;\n",
              "    }\n",
              "\n",
              "    .dataframe tbody tr th {\n",
              "        vertical-align: top;\n",
              "    }\n",
              "\n",
              "    .dataframe thead th {\n",
              "        text-align: right;\n",
              "    }\n",
              "</style>\n",
              "<table border=\"1\" class=\"dataframe\">\n",
              "  <thead>\n",
              "    <tr style=\"text-align: right;\">\n",
              "      <th></th>\n",
              "      <th>Actual value</th>\n",
              "      <th>Predicted value</th>\n",
              "    </tr>\n",
              "  </thead>\n",
              "  <tbody>\n",
              "    <tr>\n",
              "      <th>690</th>\n",
              "      <td>1</td>\n",
              "      <td>1</td>\n",
              "    </tr>\n",
              "    <tr>\n",
              "      <th>602</th>\n",
              "      <td>1</td>\n",
              "      <td>1</td>\n",
              "    </tr>\n",
              "    <tr>\n",
              "      <th>389</th>\n",
              "      <td>0</td>\n",
              "      <td>1</td>\n",
              "    </tr>\n",
              "    <tr>\n",
              "      <th>537</th>\n",
              "      <td>1</td>\n",
              "      <td>1</td>\n",
              "    </tr>\n",
              "    <tr>\n",
              "      <th>90</th>\n",
              "      <td>1</td>\n",
              "      <td>1</td>\n",
              "    </tr>\n",
              "  </tbody>\n",
              "</table>\n",
              "</div>\n",
              "      <button class=\"colab-df-convert\" onclick=\"convertToInteractive('df-29084146-c840-4b2e-b7cc-811f6a07d547')\"\n",
              "              title=\"Convert this dataframe to an interactive table.\"\n",
              "              style=\"display:none;\">\n",
              "        \n",
              "  <svg xmlns=\"http://www.w3.org/2000/svg\" height=\"24px\"viewBox=\"0 0 24 24\"\n",
              "       width=\"24px\">\n",
              "    <path d=\"M0 0h24v24H0V0z\" fill=\"none\"/>\n",
              "    <path d=\"M18.56 5.44l.94 2.06.94-2.06 2.06-.94-2.06-.94-.94-2.06-.94 2.06-2.06.94zm-11 1L8.5 8.5l.94-2.06 2.06-.94-2.06-.94L8.5 2.5l-.94 2.06-2.06.94zm10 10l.94 2.06.94-2.06 2.06-.94-2.06-.94-.94-2.06-.94 2.06-2.06.94z\"/><path d=\"M17.41 7.96l-1.37-1.37c-.4-.4-.92-.59-1.43-.59-.52 0-1.04.2-1.43.59L10.3 9.45l-7.72 7.72c-.78.78-.78 2.05 0 2.83L4 21.41c.39.39.9.59 1.41.59.51 0 1.02-.2 1.41-.59l7.78-7.78 2.81-2.81c.8-.78.8-2.07 0-2.86zM5.41 20L4 18.59l7.72-7.72 1.47 1.35L5.41 20z\"/>\n",
              "  </svg>\n",
              "      </button>\n",
              "      \n",
              "  <style>\n",
              "    .colab-df-container {\n",
              "      display:flex;\n",
              "      flex-wrap:wrap;\n",
              "      gap: 12px;\n",
              "    }\n",
              "\n",
              "    .colab-df-convert {\n",
              "      background-color: #E8F0FE;\n",
              "      border: none;\n",
              "      border-radius: 50%;\n",
              "      cursor: pointer;\n",
              "      display: none;\n",
              "      fill: #1967D2;\n",
              "      height: 32px;\n",
              "      padding: 0 0 0 0;\n",
              "      width: 32px;\n",
              "    }\n",
              "\n",
              "    .colab-df-convert:hover {\n",
              "      background-color: #E2EBFA;\n",
              "      box-shadow: 0px 1px 2px rgba(60, 64, 67, 0.3), 0px 1px 3px 1px rgba(60, 64, 67, 0.15);\n",
              "      fill: #174EA6;\n",
              "    }\n",
              "\n",
              "    [theme=dark] .colab-df-convert {\n",
              "      background-color: #3B4455;\n",
              "      fill: #D2E3FC;\n",
              "    }\n",
              "\n",
              "    [theme=dark] .colab-df-convert:hover {\n",
              "      background-color: #434B5C;\n",
              "      box-shadow: 0px 1px 3px 1px rgba(0, 0, 0, 0.15);\n",
              "      filter: drop-shadow(0px 1px 2px rgba(0, 0, 0, 0.3));\n",
              "      fill: #FFFFFF;\n",
              "    }\n",
              "  </style>\n",
              "\n",
              "      <script>\n",
              "        const buttonEl =\n",
              "          document.querySelector('#df-29084146-c840-4b2e-b7cc-811f6a07d547 button.colab-df-convert');\n",
              "        buttonEl.style.display =\n",
              "          google.colab.kernel.accessAllowed ? 'block' : 'none';\n",
              "\n",
              "        async function convertToInteractive(key) {\n",
              "          const element = document.querySelector('#df-29084146-c840-4b2e-b7cc-811f6a07d547');\n",
              "          const dataTable =\n",
              "            await google.colab.kernel.invokeFunction('convertToInteractive',\n",
              "                                                     [key], {});\n",
              "          if (!dataTable) return;\n",
              "\n",
              "          const docLinkHtml = 'Like what you see? Visit the ' +\n",
              "            '<a target=\"_blank\" href=https://colab.research.google.com/notebooks/data_table.ipynb>data table notebook</a>'\n",
              "            + ' to learn more about interactive tables.';\n",
              "          element.innerHTML = '';\n",
              "          dataTable['output_type'] = 'display_data';\n",
              "          await google.colab.output.renderOutput(dataTable, element);\n",
              "          const docLink = document.createElement('div');\n",
              "          docLink.innerHTML = docLinkHtml;\n",
              "          element.appendChild(docLink);\n",
              "        }\n",
              "      </script>\n",
              "    </div>\n",
              "  </div>\n",
              "  "
            ]
          },
          "metadata": {},
          "execution_count": 27
        }
      ]
    }
  ]
}